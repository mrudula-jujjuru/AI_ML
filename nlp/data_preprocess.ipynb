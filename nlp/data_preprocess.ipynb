{
  "nbformat": 4,
  "nbformat_minor": 0,
  "metadata": {
    "colab": {
      "provenance": [],
      "authorship_tag": "ABX9TyMcuZ4NviM4ob122OjO1tNj",
      "include_colab_link": true
    },
    "kernelspec": {
      "name": "python3",
      "display_name": "Python 3"
    },
    "language_info": {
      "name": "python"
    }
  },
  "cells": [
    {
      "cell_type": "markdown",
      "metadata": {
        "id": "view-in-github",
        "colab_type": "text"
      },
      "source": [
        "<a href=\"https://colab.research.google.com/github/MrudulaJujjuru/AI_ML/blob/master/nlp/data_preprocess.ipynb\" target=\"_parent\"><img src=\"https://colab.research.google.com/assets/colab-badge.svg\" alt=\"Open In Colab\"/></a>"
      ]
    },
    {
      "cell_type": "code",
      "execution_count": 3,
      "metadata": {
        "colab": {
          "base_uri": "https://localhost:8080/"
        },
        "id": "K5Coac_uuBHB",
        "outputId": "059d39c7-f9d5-4822-a87a-9d9b5327513a"
      },
      "outputs": [
        {
          "output_type": "stream",
          "name": "stdout",
          "text": [
            "Sentence 1: beans\n",
            "Sentence 2: i was trying to explain to somebody as we were flying in that s corn\n",
            "Sentence 3: that s beans\n",
            "Sentence 4: and they were very impressed\n"
          ]
        },
        {
          "output_type": "stream",
          "name": "stderr",
          "text": [
            "[nltk_data] Downloading package punkt_tab to /root/nltk_data...\n",
            "[nltk_data]   Package punkt_tab is already up-to-date!\n"
          ]
        }
      ],
      "source": [
        "import re\n",
        "import nltk\n",
        "nltk.download('punkt_tab')\n",
        "txt = \"\"\"Beans. I was trying to explain to somebody as we were flying in, that's corn. That's beans. And they were very impressed...\"\"\"\n",
        "# Tokenize sentences\n",
        "sentences = nltk.sent_tokenize(txt)\n",
        "# Process in one pass using list comprehension\n",
        "for i in range(len(dataset)):\n",
        "    dataset[i] = dataset[i].lower()\n",
        "    dataset[i] = re.sub(r'\\W', ' ', dataset[i])\n",
        "    dataset[i] = re.sub(r'\\s+', ' ', dataset[i])\n",
        "# Display results\n",
        "for i, sentence in enumerate(dataset):\n",
        "    print(f\"Sentence {i+1}: {sentence}\")"
      ]
    }
  ]
}